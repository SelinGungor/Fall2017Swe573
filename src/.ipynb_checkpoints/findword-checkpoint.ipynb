{
 "cells": [
  {
   "cell_type": "code",
   "execution_count": 7,
   "metadata": {},
   "outputs": [
    {
     "ename": "IndentationError",
     "evalue": "unexpected indent (<ipython-input-7-d6bf3f11e006>, line 16)",
     "output_type": "error",
     "traceback": [
      "\u001b[0;36m  File \u001b[0;32m\"<ipython-input-7-d6bf3f11e006>\"\u001b[0;36m, line \u001b[0;32m16\u001b[0m\n\u001b[0;31m    self.api = tweepy.API(self.auth)\u001b[0m\n\u001b[0m    ^\u001b[0m\n\u001b[0;31mIndentationError\u001b[0m\u001b[0;31m:\u001b[0m unexpected indent\n"
     ]
    }
   ],
   "source": [
    "import tweepy \n",
    "import time\n",
    "\n",
    "ckey = '4WIPgMoZoE1KCPS0OrvzhzzOa'\n",
    "csecret = 'CxEPHr4pyrZGKozvvgUE4FdBVAaJpdK1b5p3Hol4e8uZTd8kcu'\n",
    "atoken = '747662208-b4wuhLt7y8xodzJDplO5pqnHx1tNZuRsq741nVwl'\n",
    "asecret = '7N43Y1HWCIQPxfupJV37PqW1oQuJLZ3JWm3Rrdsp7jyNP'\n",
    "\n",
    "class listenTweets(object):\n",
    "    def __init__(self, max_tweets_per_hour):\n",
    "        self.max_tweets_per_hour = max_tweets_per_hour\n",
    "        \n",
    "        auth = tweepy.OAuthHandler(ckey, csecret)\n",
    "        auth.set_access_token(atoken, asecret)\n",
    "\n",
    "        self.api = tweepy.API(self.auth)\n",
    "    \n",
    "    def parse_tweet(self, tweet):\n",
    "        pass\n",
    "    \n",
    "    def search(self, query):\n",
    "        pass\n",
    "    \n",
    "    def classify_tweet(self, tweet):\n",
    "        pass\n",
    "    \n",
    "    def formulate_response(self, tweet):\n",
    "        pass\n",
    "    \n",
    "    def send_response(self, response):\n",
    "        pass\n",
    "    \n",
    "listen_tweets = listenTweets(100)\n",
    "results = listen_tweets.api.search('single', lang='en', count=100)\n",
    "tweets = []\n",
    "for tweet in results:\n",
    "    if tweet.text[:2] != 'RT':\n",
    "        tweets.append(tweet)\n",
    "        print(tweets[-1].text,'\\n---')"
   ]
  },
  {
   "cell_type": "code",
   "execution_count": null,
   "metadata": {
    "collapsed": true
   },
   "outputs": [],
   "source": []
  }
 ],
 "metadata": {
  "kernelspec": {
   "display_name": "Python 3",
   "language": "python",
   "name": "python3"
  },
  "language_info": {
   "codemirror_mode": {
    "name": "ipython",
    "version": 3
   },
   "file_extension": ".py",
   "mimetype": "text/x-python",
   "name": "python",
   "nbconvert_exporter": "python",
   "pygments_lexer": "ipython3",
   "version": "3.6.1"
  }
 },
 "nbformat": 4,
 "nbformat_minor": 2
}
