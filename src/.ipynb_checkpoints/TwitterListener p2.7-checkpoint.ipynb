{
 "cells": [
  {
   "cell_type": "code",
   "execution_count": 2,
   "metadata": {},
   "outputs": [
    {
     "ename": "SyntaxError",
     "evalue": "Missing parentheses in call to 'print' (<ipython-input-2-6bd0082cf6ed>, line 12)",
     "output_type": "error",
     "traceback": [
      "\u001b[0;36m  File \u001b[0;32m\"<ipython-input-2-6bd0082cf6ed>\"\u001b[0;36m, line \u001b[0;32m12\u001b[0m\n\u001b[0;31m    print data\u001b[0m\n\u001b[0m             ^\u001b[0m\n\u001b[0;31mSyntaxError\u001b[0m\u001b[0;31m:\u001b[0m Missing parentheses in call to 'print'\n"
     ]
    }
   ],
   "source": [
    "from tweepy import Stream\n",
    "from tweepy import OAuthHandler\n",
    "from tweepy.streaming import Stream\n",
    "\n",
    "ckey = '4WIPgMoZoE1KCPS0OrvzhzzOa'\n",
    "csecret = 'CxEPHr4pyrZGKozvvgUE4FdBVAaJpdK1b5p3Hol4e8uZTd8kcu'\n",
    "atoken = '747662208-b4wuhLt7y8xodzJDplO5pqnHx1tNZuRsq741nVwl'\n",
    "asecret = '7N43Y1HWCIQPxfupJV37PqW1oQuJLZ3JWm3Rrdsp7jyNP'\n",
    "\n",
    "class listener(StreamListener):\n",
    "    \n",
    "    def on_data(self, data):\n",
    "        print data\n",
    "        return True\n",
    "    \n",
    "    def on_error(self, status):\n",
    "        print status\n",
    "\n",
    "auth = OAuthHandler(ckey, csecret)\n",
    "auth.set_access_token(atoken, asecret)\n",
    "twitterStream = Stream(auth, listener())\n",
    "twitterStream.filter(track=[\"car\"])"
   ]
  },
  {
   "cell_type": "code",
   "execution_count": null,
   "metadata": {
    "collapsed": true
   },
   "outputs": [],
   "source": []
  }
 ],
 "metadata": {
  "kernelspec": {
   "display_name": "Python 3",
   "language": "python",
   "name": "python3"
  },
  "language_info": {
   "codemirror_mode": {
    "name": "ipython",
    "version": 3
   },
   "file_extension": ".py",
   "mimetype": "text/x-python",
   "name": "python",
   "nbconvert_exporter": "python",
   "pygments_lexer": "ipython3",
   "version": "3.6.1"
  }
 },
 "nbformat": 4,
 "nbformat_minor": 2
}
