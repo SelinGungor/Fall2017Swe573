{
 "cells": [
  {
   "cell_type": "code",
   "execution_count": 1,
   "metadata": {},
   "outputs": [
    {
     "name": "stdout",
     "output_type": "stream",
     "text": [
      "waiting for a connection.\n"
     ]
    }
   ],
   "source": [
    "import socket\n",
    "import sys\n",
    "from _thread import *\n",
    "\n",
    "host = ''\n",
    "port = 8958\n",
    "s = socket.socket(socket.AF_INET, socket.SOCK_STREAM) \n",
    "\n",
    "try:\n",
    "    s.bind((host, port))\n",
    "except socket.error as e:\n",
    "    print(str(e))\n",
    "    \n",
    "s.listen(5)\n",
    "print('waiting for a connection.')\n",
    "\n",
    "def threaded_client(conn):\n",
    "    conn.send(str.encode('Welcome! Type your info\\n'))\n",
    "    \n",
    "    while True:\n",
    "        data = conn.recv(2048)\n",
    "        reply = 'Server output: ' + data.decode('utf-8')\n",
    "        if not data:\n",
    "            break\n",
    "        conn.sendall(str.encode(reply))\n",
    "    conn.close()\n",
    "            \n",
    "    while True:\n",
    "        conn, addr = s.accept()\n",
    "        print('connected to: '+ addr[0] +':'+ str(addr[1]))\n",
    "        start_new_thread(threaded_client,(conn,))"
   ]
  }
 ],
 "metadata": {
  "kernelspec": {
   "display_name": "Python 3",
   "language": "python",
   "name": "python3"
  },
  "language_info": {
   "codemirror_mode": {
    "name": "ipython",
    "version": 3
   },
   "file_extension": ".py",
   "mimetype": "text/x-python",
   "name": "python",
   "nbconvert_exporter": "python",
   "pygments_lexer": "ipython3",
   "version": "3.6.1"
  }
 },
 "nbformat": 4,
 "nbformat_minor": 2
}
