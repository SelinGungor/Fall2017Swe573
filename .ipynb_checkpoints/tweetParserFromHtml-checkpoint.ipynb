{
 "cells": [
  {
   "cell_type": "code",
   "execution_count": null,
   "metadata": {},
   "outputs": [
    {
     "name": "stdout",
     "output_type": "stream",
     "text": [
      "15\n",
      "Well stitch me up\n"
     ]
    }
   ],
   "source": [
    "import re\n",
    "from re import sub\n",
    "import time\n",
    "import http.cookiejar\n",
    "from http.cookiejar import CookieJar\n",
    "from urllib.request import urlopen\n",
    "\n",
    "cj = CookieJar()\n",
    "opener = urllib.request.build_opener(urllib.request.HTTPCookieProcessor(cj))\n",
    "opener.addheaders = [('User-agent','Mozilla/5.0')]\n",
    "\n",
    "keyWord = 'obama'\n",
    "startingLink = 'https://twitter.com/search?f=tweets&vertical=news&q='\n",
    "\n",
    "def main():\n",
    "    \n",
    "    try:\n",
    "        sourceCode = opener.open('https://twitter.com/search?f=tweets&vertical=news&q='+keyWord+'&src=typd')\n",
    "        myDataSource = sourceCode.read().decode('utf-8')\n",
    "        #print(myDataSource)\n",
    "        \n",
    "        splitSource = re.findall(r'<p class=\"TweetTextSize  js-tweet-text tweet-text\" lang=\"en\" data-aria-label-part=\"0\">(.*?)</p>',myDataSource)\n",
    "       # print(len(splitSource))\n",
    "        \n",
    "        for item in splitSource:\n",
    "            print(item)\n",
    "            time.sleep(555)\n",
    "        \n",
    "        \n",
    "    except Exception as e:\n",
    "        print(str(e))\n",
    "        print('errored in the main try')\n",
    "        time.sleep(555)\n",
    "        \n",
    "main()\n"
   ]
  },
  {
   "cell_type": "code",
   "execution_count": null,
   "metadata": {
    "collapsed": true
   },
   "outputs": [],
   "source": []
  }
 ],
 "metadata": {
  "kernelspec": {
   "display_name": "Python 3",
   "language": "python",
   "name": "python3"
  },
  "language_info": {
   "codemirror_mode": {
    "name": "ipython",
    "version": 3
   },
   "file_extension": ".py",
   "mimetype": "text/x-python",
   "name": "python",
   "nbconvert_exporter": "python",
   "pygments_lexer": "ipython3",
   "version": "3.6.1"
  }
 },
 "nbformat": 4,
 "nbformat_minor": 2
}
